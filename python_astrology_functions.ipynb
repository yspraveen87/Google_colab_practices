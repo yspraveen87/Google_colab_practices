{
  "nbformat": 4,
  "nbformat_minor": 0,
  "metadata": {
    "colab": {
      "provenance": [],
      "authorship_tag": "ABX9TyMFMJZcHDxt9FRKj26Lzp37",
      "include_colab_link": true
    },
    "kernelspec": {
      "name": "python3",
      "display_name": "Python 3"
    },
    "language_info": {
      "name": "python"
    }
  },
  "cells": [
    {
      "cell_type": "markdown",
      "metadata": {
        "id": "view-in-github",
        "colab_type": "text"
      },
      "source": [
        "<a href=\"https://colab.research.google.com/github/yspraveen87/Google_colab_practices/blob/main/python_astrology_functions.ipynb\" target=\"_parent\"><img src=\"https://colab.research.google.com/assets/colab-badge.svg\" alt=\"Open In Colab\"/></a>"
      ]
    },
    {
      "cell_type": "code",
      "execution_count": 26,
      "metadata": {
        "colab": {
          "base_uri": "https://localhost:8080/"
        },
        "id": "ypu3OHShiJeL",
        "outputId": "548e46e7-1c81-45b7-8a55-92003050bccf"
      },
      "outputs": [
        {
          "output_type": "stream",
          "name": "stdout",
          "text": [
            "Lagna lord is : Venus \n",
            "Your Rashi is Cap/Mesha \n"
          ]
        }
      ],
      "source": [
        "# lagna_lord ( lagna )\n",
        "# This function is written to get the Lagna lord based on the lagna input person gives.\n",
        "def lagna_lord(lagna):\n",
        "  if (lagna== \"Aris\"):\n",
        "    print(\"Lagna lord is: Mars\")\n",
        "  elif (lagna == \"Taurus\"):\n",
        "    print ( \"Lagna lord is : Venus \")\n",
        "  elif (lagna == \"Gemini\"):\n",
        "    print ( \"Lagna lord is : Mercury \")\n",
        "  elif (lagna == \"Cencer\"):\n",
        "    print ( \"Lagna lord is : Moon \")\n",
        "  elif (lagna == \"Leo\"):\n",
        "    print ( \"Lagna lord is : Sun \")\n",
        "  elif (lagna == \"Virgo\"):\n",
        "    print ( \"Lagna lord is : Mercury \")\n",
        "  elif (lagna == \"Libra\"):\n",
        "    print ( \"Lagna lord is : Venus\")\n",
        "  elif (lagna == \"Scorpian\"):\n",
        "    print ( \"Lagna lord is : Mars \")\n",
        "  elif (lagna == \"Sag\"):\n",
        "    print ( \"Lagna lord is : Jupiter \")\n",
        "  elif (lagna == \" Cap\"):\n",
        "    print ( \"Lagna lord is : Satrun \")\n",
        "  elif (lagna == \"Aq\"):\n",
        "    print ( \"Lagna lord is : Satrun\")\n",
        "  elif (lagna == \"Pi\"):\n",
        "    print ( \"Lagna lord is : Jupiter \")\n",
        "  else:\n",
        "    print(\"Lagna mentioned by you is wrong its not defined  \")\n",
        "# end of the function called lagna_lord(lagna)\n",
        "\n",
        "# moon_position(moon)\n",
        "#This function is used to determine the rashi of the person\n",
        "def moon_position(moon):\n",
        "  if (moon == \" Aris \"):\n",
        "    print(\"Yours Rashi is Aris/Mesha \")\n",
        "  elif (moon == \"Taurus\"):\n",
        "    print ( \"Your Rashi is Taurus/Vrushabha \")\n",
        "  elif (moon == \"Gemini\"):\n",
        "    print ( \"Your Rashi is Gemini/Mithuna \")\n",
        "  elif (moon == \"Cancer\"):\n",
        "    print ( \"Your Rashi is Cancer/Karka \")\n",
        "  elif (moon == \"Leo\"):\n",
        "    print ( \"Your Rashi is Leo/Simha \")\n",
        "  elif (moon == \"Virgo\"):\n",
        "    print ( \"Your Rashi is Virgo/Kanya \")\n",
        "  elif (moon == \"Libra\"):\n",
        "    print ( \"Your Rashi is Libra/Tula \")\n",
        "  elif (moon == \"Scorpian\"):\n",
        "    print ( \"Your Rashi is Scorpian/Vrushchika \")\n",
        "  elif (moon == \"Sag\"):\n",
        "    print ( \"Your Rashi is Sag/Dhanur \")\n",
        "  elif (moon == \"Cap\"):\n",
        "    print ( \"Your Rashi is Cap/Mesha \")\n",
        "  elif (moon == \"Aq\"):\n",
        "    print ( \"Your Rashi is Aq/Kumbha \")\n",
        "  elif (moon == \"Pi\"):\n",
        "    print ( \"Your Rashi is Pi/Meena \")\n",
        "  else:\n",
        "    print(\"Lagna mentioned by you is wrong its not defined  \")\n",
        "# moon_position(moon) tells the rashi of the person.\n",
        "\n",
        "def sun_position()\n",
        "def moon_position()\n",
        "def nak_position()\n",
        "def mars_position()\n",
        "def mercury_position()\n",
        "def jupiter_position()\n",
        "def venus_position()\n",
        "def satrun_position()\n",
        "def rahu_position()\n",
        "def ketu_position()\n",
        "\n",
        "\n",
        "lagna_lord(\"Taurus\")\n",
        "moon_position(\"Cap\")\n"
      ]
    }
  ]
}